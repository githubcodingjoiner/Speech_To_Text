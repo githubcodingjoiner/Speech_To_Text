{
 "cells": [
  {
   "cell_type": "code",
   "execution_count": 13,
   "id": "86d03ead-58e9-43a5-aa65-e001822b7841",
   "metadata": {},
   "outputs": [],
   "source": [
    "import speech_recognition\n",
    "import pyttsx3"
   ]
  },
  {
   "cell_type": "code",
   "execution_count": 14,
   "id": "709c0c03-5d55-42d4-a06a-ef4e62df4286",
   "metadata": {},
   "outputs": [],
   "source": [
    "def SpeakNow(command):\n",
    "    voice = pyttsx3.init()\n",
    "    voice.say(command)\n",
    "    voice.runAndWait()"
   ]
  },
  {
   "cell_type": "code",
   "execution_count": 12,
   "id": "46b99534-402d-43cd-967a-ab72e100b1ac",
   "metadata": {},
   "outputs": [
    {
     "name": "stdout",
     "output_type": "stream",
     "text": [
      "Shushhh..!!! I'm Listening\n",
      "Listening....Speak Now Please..!!\n",
      "I heard you talking.....\n",
      "hi i am aditi can you repeat it\n",
      "Shushhh..!!! I'm Listening\n",
      "Listening....Speak Now Please..!!\n",
      "I heard you talking.....\n",
      "stop listening\n",
      "Goodbye!\n"
     ]
    }
   ],
   "source": [
    "def main():\n",
    "    sr = speech_recognition.Recognizer()\n",
    "    with speech_recognition.Microphone() as src2:\n",
    "        while True:  # This starts an infinite loop\n",
    "            print(\"Shushhh..!!! I'm Listening\")\n",
    "            sr.adjust_for_ambient_noise(src2, duration=1)\n",
    "            print(\"Listening....Speak Now Please..!!\")\n",
    "            try:\n",
    "                audio2 = sr.listen(src2)\n",
    "                txt = sr.recognize_google(audio2).lower()\n",
    "                print(\"I heard you talking.....\\n\" + txt)\n",
    "\n",
    "                if 'stop listening' in txt:\n",
    "                    print(\"Goodbye!\")\n",
    "                    SpeakNow(\"Goodbye!\")\n",
    "                    break  # Exit the loop when 'stop listening' is said\n",
    "                \n",
    "                SpeakNow(txt)\n",
    "            except speech_recognition.UnknownValueError:\n",
    "                print(\"Sorry, I did not understand that.\")\n",
    "            except speech_recognition.RequestError as e:\n",
    "                print(\"Could not request results; {0}\".format(e))\n",
    "\n",
    "if __name__ == '__main__':\n",
    "    main()\n"
   ]
  },
  {
   "cell_type": "code",
   "execution_count": null,
   "id": "d0db095a-e508-4e6c-947c-a7b10f62fc4a",
   "metadata": {},
   "outputs": [],
   "source": []
  }
 ],
 "metadata": {
  "kernelspec": {
   "display_name": "Python 3 (ipykernel)",
   "language": "python",
   "name": "python3"
  },
  "language_info": {
   "codemirror_mode": {
    "name": "ipython",
    "version": 3
   },
   "file_extension": ".py",
   "mimetype": "text/x-python",
   "name": "python",
   "nbconvert_exporter": "python",
   "pygments_lexer": "ipython3",
   "version": "3.10.9"
  }
 },
 "nbformat": 4,
 "nbformat_minor": 5
}
